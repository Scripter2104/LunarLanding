{
 "cells": [
  {
   "cell_type": "markdown",
   "id": "22567abc",
   "metadata": {},
   "source": [
    "### Importing the libraries"
   ]
  },
  {
   "cell_type": "code",
   "execution_count": 1,
   "id": "50cc2b77",
   "metadata": {},
   "outputs": [],
   "source": [
    "import os\n",
    "import random\n",
    "import numpy as np\n",
    "import torch\n",
    "import torch.nn as nn\n",
    "import torch.nn.functional as F\n",
    "from collections import deque,namedtuple"
   ]
  },
  {
   "cell_type": "markdown",
   "id": "7e97d38b",
   "metadata": {},
   "source": [
    "### Creating architecture of Neural Network"
   ]
  },
  {
   "cell_type": "code",
   "execution_count": 2,
   "id": "eba1c300",
   "metadata": {},
   "outputs": [],
   "source": [
    "class Network(nn.Module):\n",
    "    \"\"\"\n",
    "    A neural network for reinforcement learning in a lander environment.\n",
    "    \n",
    "    state_size = (x, y) of the lander, (x, y) of landing position,\n",
    "                 (angle, angular velocity), (left leg, right leg) contact (boolean)\n",
    "                 \n",
    "    action_size = 4 possible actions (nothing, left, right, down)\n",
    "    \"\"\"\n",
    "\n",
    "    def __init__(self, state_size, action_size, seed=42):\n",
    "        \n",
    "        super(Network, self).__init__()\n",
    "        self.seed = torch.manual_seed(seed)\n",
    "\n",
    "        self.fc1 = nn.Linear(state_size, 64)   # Input layer\n",
    "        self.fc2 = nn.Linear(64, 64)           # Hidden layer\n",
    "        self.fc3 = nn.Linear(64, action_size)  # Output layer\n",
    "        \n",
    "\n",
    "    def forward(self, state):\n",
    "        \"\"\"\n",
    "         fc1 will create a first layer with 8 inputs and 64 outputs and weights , biases are also initialised randomly within\n",
    "         \n",
    "         fc1(state) will take a tensor of shape (batch_size, state_size) and provide a output Y = state*weights + bias\n",
    "        \"\"\"\n",
    "        \n",
    "        y = self.fc1(state)          # First layer + ReLU\n",
    "        y = F.relu(y)\n",
    "        \n",
    "        y = self.fc2(y)              # Second layer + ReLU\n",
    "        y = F.relu(y)\n",
    "        \n",
    "        y = self.fc3(y)              # Output layer (no activation for raw Q-values)\n",
    "        return y\n"
   ]
  },
  {
   "cell_type": "markdown",
   "id": "9a020a3b",
   "metadata": {},
   "source": [
    "## Training the AI"
   ]
  },
  {
   "cell_type": "markdown",
   "id": "bdb9bcfd",
   "metadata": {},
   "source": [
    "### Setting up environment"
   ]
  },
  {
   "cell_type": "code",
   "execution_count": 3,
   "id": "e08e6bd6",
   "metadata": {},
   "outputs": [],
   "source": [
    "import gymnasium as gym"
   ]
  },
  {
   "cell_type": "code",
   "execution_count": 4,
   "id": "0a8330ed",
   "metadata": {},
   "outputs": [],
   "source": [
    "# env = gym.make(\"LunarLander-v3\")\n",
    "env = gym.make(\"LunarLander-v3\", continuous=False, gravity=-10.0,\n",
    "               enable_wind=False, wind_power=15.0, turbulence_power=1.5)\n",
    "\n",
    "state_shape = env.observation_space.shape   #(8, )\n",
    "state_size = env.observation_space.shape[0] # 8\n",
    "number_actions = env.action_space.n         # 4\n"
   ]
  },
  {
   "cell_type": "markdown",
   "id": "4466ec06",
   "metadata": {},
   "source": [
    "### Initializing hyperparameter"
   ]
  },
  {
   "cell_type": "code",
   "execution_count": 5,
   "id": "0bbd086e",
   "metadata": {},
   "outputs": [
    {
     "name": "stdout",
     "output_type": "stream",
     "text": [
      "\n"
     ]
    }
   ],
   "source": [
    "learning_rate = 5e-4\n",
    "\n",
    "\"\"\"\n",
    "Controls how quickly the agent updates its model (e.g., neural network weights).\n",
    "A smaller value (like 0.0005) means slower but more stable learning.\n",
    "Too high: risk of overshooting optimal solutions; too low: slow convergence.\n",
    "\"\"\"\n",
    "\n",
    "\n",
    "\n",
    "batch_size = 100\n",
    "\n",
    "\"\"\" Number of experiences sampled from the replay buffer for each training step.\n",
    "A larger batch size (like 100) provides more stable updates but requires more memory.\n",
    "Smaller batches may lead to noisier updates but faster training per step.\"\"\"\n",
    "\n",
    "\n",
    "discount_factor = 0.99\n",
    "\n",
    "\"\"\" Determines how much the agent values future rewards compared to immediate rewards.\n",
    "A value of 0.99 means the agent prioritizes long-term rewards (future-focused).\n",
    "Lower values (e.g., 0.9) make the agent focus more on short-term rewards.\"\"\"\n",
    "\n",
    "\n",
    "replay_buffer_size = 100000   \n",
    "\n",
    "\"\"\"Maximum number of experiences stored in the replay buffer.\n",
    "Experiences are used to train the agent by sampling from this buffer.\n",
    "A larger buffer (like 100,000) allows for more diverse training data but requires more memory.\n",
    "Older experiences are replaced when the buffer is full.\"\"\"\n",
    "\n",
    "\n",
    "interpolation_parameter = 0.001 \n",
    "\n",
    "\"\"\"\n",
    "Used in algorithms with target networks (e.g., DQN).\n",
    "Controls how much the target network's weights are updated toward the main network's weights.\n",
    "A small value (like 0.001) ensures slow, stable updates to the target network.\n",
    "This is also known as \"soft updating\" and helps maintain training stability.\n",
    "\"\"\"\n",
    "\n",
    "print(\"\")"
   ]
  },
  {
   "cell_type": "markdown",
   "id": "84e79ccc",
   "metadata": {},
   "source": [
    "### Implementing Experience Replay"
   ]
  },
  {
   "cell_type": "code",
   "execution_count": 6,
   "id": "66ae2307",
   "metadata": {},
   "outputs": [],
   "source": [
    "class ReplayMemory:\n",
    "    \n",
    "    def __init__(self, capacity):\n",
    "        # if gpu is avalibale or not (just for speeding up processes)\n",
    "        self.device = torch.device(\"cuda:0\" if torch.cuda.is_available() else \"cpu\")\n",
    "        \n",
    "        self.capacity = capacity\n",
    "        self.memory = []            # stores reward, state, next_state, action \n",
    "        \n",
    "    def push(self, experience):\n",
    "        \n",
    "        if len(self.memory) >= self.capacity:\n",
    "            \n",
    "            del self.memory[0]     # remove oldest experience\n",
    "            \n",
    "        self.memory.append(experience)\n",
    "            \n",
    "    \n",
    "    def sample(self, batch_size):\n",
    "        \n",
    "        experiences = random.sample(self.memory, k = batch_size)\n",
    "        \n",
    "        \"\"\"experiences will have :\n",
    "           index 0 = state\n",
    "           index 1 = action\n",
    "           index 2 = reward\n",
    "           index 3 = next_state\n",
    "           index 4 = done(boolean)\n",
    "        \"\"\"\n",
    "        \n",
    "        # convert np to torch tensor and add to computing power ie gpu or cpu\n",
    "        \n",
    "        states = np.vstack([e[0] for e in experiences if e is not None])        \n",
    "        states = torch.from_numpy(states).float().to(self.device)  \n",
    "        \n",
    "        actions = np.vstack([e[1] for e in experiences if e is not None])        \n",
    "        actions = torch.from_numpy(actions).long().to(self.device) \n",
    "        \n",
    "        rewards = np.vstack([e[2] for e in experiences if e is not None])        \n",
    "        rewards = torch.from_numpy(rewards).float().to(self.device) \n",
    "        \n",
    "        next_states = np.vstack([e[3] for e in experiences if e is not None])        \n",
    "        next_states = torch.from_numpy(next_states).float().to(self.device)  \n",
    "        \n",
    "        done = np.vstack([e[4] for e in experiences if e is not None]).astype(np.uint8)        \n",
    "        done = torch.from_numpy(done).float().to(self.device)  \n",
    "        \n",
    "        return states, next_states, actions, rewards, done  \n",
    "        "
   ]
  },
  {
   "cell_type": "markdown",
   "id": "59dd0943",
   "metadata": {},
   "source": [
    "### Implementing the DQN class"
   ]
  },
  {
   "cell_type": "code",
   "execution_count": 7,
   "id": "b65a069c",
   "metadata": {},
   "outputs": [],
   "source": [
    "class Agent:\n",
    "    \n",
    "    def __init__(self, state_size, action_size):\n",
    "        \"\"\"\n",
    "        Initializes the reinforcement learning agent.\n",
    "\n",
    "        Parameters:\n",
    "        - state_size (int): The number of features in the state representation.\n",
    "        - action_size (int): The number of possible actions the agent can take.\n",
    "        \"\"\"\n",
    "\n",
    "        # Check if GPU is available; use it if possible for faster computation\n",
    "        self.device = torch.device(\"cuda:0\" if torch.cuda.is_available() else \"cpu\")\n",
    "        \n",
    "        \n",
    "        self.state_size = state_size  # Example: 8 features in the state\n",
    "        self.action_size = action_size  # Example: 4 possible actions\n",
    "        \n",
    "        \n",
    "        # Initialize two neural networks:\n",
    "        # 1. local_qnetwork: Used to select actions during training\n",
    "        # 2. target_qnetwork: Used to compute target Q-values for training stability\n",
    "        \n",
    "        self.local_qnetwork = Network(state_size, action_size).to(self.device)\n",
    "        self.target_qnetwork = Network(state_size, action_size).to(self.device)\n",
    "        \n",
    "        \n",
    "        # Optimizer for training the local Q-network\n",
    "        self.optimizer = torch.optim.Adam(self.local_qnetwork.parameters(), lr=learning_rate)\n",
    "        \n",
    "        \n",
    "        # Replay buffer to store and sample past experiences (for experience replay)\n",
    "        self.memory = ReplayMemory(replay_buffer_size)\n",
    "        \n",
    "        # Counter to keep track of time steps for training adjustments\n",
    "        self.time_step = 0\n",
    "\n",
    "        \n",
    "    def step(self, state, action, reward, next_state, done):\n",
    "        \n",
    "        self.memory.push((state, action, reward, next_state, done))\n",
    "        self.time_step = self.time_step + 1\n",
    "        \n",
    "\n",
    "        # after every 4 step the network replay the memory\n",
    "        \n",
    "        if self.time_step == 4:\n",
    "            \n",
    "            # network only learns if memory has 100 replays\n",
    "            \n",
    "            if len(self.memory.memory) > batch_size:\n",
    "                experiences = self.memory.sample(100)\n",
    "                self.learn(experiences, discount_factor)\n",
    "            \n",
    "            self.time_step = 0  #reset the counter\n",
    "            \n",
    "            \n",
    "    \"\"\"\n",
    "    epsilon greedy in which 1-E time it will select best action(for exploitation) \n",
    "\n",
    "    while (e) time it will explore and select random action(for exploration) \n",
    "\n",
    "    \"\"\" \n",
    "    def act(self, state, epsilon = 0.):\n",
    "        \n",
    "        state = torch.from_numpy(state).float().unsqueeze(0).to(self.device)  # adds extra dimension for batch and convert to tensor\n",
    "       \n",
    "        # Set model to evaluation mode to disable dropout and use running statistics\n",
    "        self.local_qnetwork.eval()\n",
    "        \n",
    "        # Compute action values without gradient calculation (no backpropogation)\n",
    "        with torch.no_grad():\n",
    "            # local_qnetwork.forward(state) == local_qnetwork(state) because of overriding parent forward method\n",
    "            action_values = self.local_qnetwork(state)\n",
    "            \n",
    "            \n",
    "        # continue normal training\n",
    "        self.local_qnetwork.train()\n",
    "        \n",
    "        if random.random() > epsilon:\n",
    "            return np.argmax(action_values.cpu().data.numpy()) # retun best action for exploitation\n",
    "        else:\n",
    "            return random.choice(np.arange(self.action_size))  # return random action for exploration\n",
    "        \n",
    "    \n",
    "    def learn(self, experiences, discount_factor):\n",
    "        \n",
    "        states, next_states, actions, rewards, done = experiences\n",
    "        next_q_targets = self.target_qnetwork(next_states).detach().max(1)[0].unsqueeze(1)\n",
    "        \n",
    "        q_target = rewards + discount_factor * next_q_targets *(1-done)\n",
    "        \n",
    "        # local qnetwork predicted value\n",
    "        q_expected = self.local_qnetwork(states).gather(1, actions)\n",
    "        \n",
    "        #loss\n",
    "        loss = F.mse_loss(q_expected, q_target)\n",
    "        self.optimizer.zero_grad()\n",
    "        loss.backward()\n",
    "        self.optimizer.step()\n",
    "        \n",
    "        self.soft_update(self.local_qnetwork, self.target_qnetwork, interpolation_parameter)\n",
    "        \n",
    "    def soft_update(self, local_model, target_model, interpolation_parameter):\n",
    "        \n",
    "        for target_param, local_param in zip(target_model.parameters(), local_model.parameters()):\n",
    "            target_param.data.copy_(interpolation_parameter * local_param.data + (1.0 - interpolation_parameter) *target_param.data)"
   ]
  },
  {
   "cell_type": "markdown",
   "id": "dae5c2d0",
   "metadata": {},
   "source": [
    "## Initialize DQN Agent"
   ]
  },
  {
   "cell_type": "code",
   "execution_count": 8,
   "id": "87a24f6d",
   "metadata": {},
   "outputs": [],
   "source": [
    "agent = Agent(state_size, number_actions)"
   ]
  },
  {
   "cell_type": "markdown",
   "id": "5d6aaf5c",
   "metadata": {},
   "source": [
    "## Training the DQN Agent"
   ]
  },
  {
   "cell_type": "code",
   "execution_count": 9,
   "id": "4635227a",
   "metadata": {
    "scrolled": false
   },
   "outputs": [
    {
     "name": "stdout",
     "output_type": "stream",
     "text": [
      "Episode 1037\tAverage Score: 255.95Environment solved in 1037 Average score : 255.94965453862307\n"
     ]
    }
   ],
   "source": [
    "# Number of episodes(epochs) for training the agent\n",
    "number_episodes = 2000  \n",
    "\n",
    "# Maximum steps per episode (limits how long the agent can act in one episode)\n",
    "maximum_number_timesteps_per_episodes = 1000  \n",
    "\n",
    "# Initial epsilon value (start with full exploration)\n",
    "epsilon_starting_value = 1.0  \n",
    "\n",
    "# Minimum epsilon value (ensures at least 1% exploration at the end)\n",
    "epsilon_ending_value = 0.01  \n",
    "\n",
    "# Decay rate for epsilon (reduces exploration gradually)\n",
    "epsilon_decay_value = 0.995  \n",
    "\n",
    "# Set epsilon to its starting value\n",
    "epsilon = epsilon_starting_value  \n",
    "\n",
    "# Maintain a list of scores from the last 100 episodes (used for performance tracking)\n",
    "score_on_100_episodes = deque(maxlen=100)  # Stores only the last 100 scores\n",
    "\n",
    "\n",
    "\n",
    "\n",
    "\n",
    "for episode in range(1, number_episodes+1):\n",
    "    \n",
    "    state, _ = env.reset()\n",
    "    score = 0\n",
    "    \n",
    "    for t in range(1, maximum_number_timesteps_per_episodes+1):\n",
    "        \n",
    "        action = agent.act(state, epsilon)\n",
    "        \n",
    "        next_state, reward, done, _, _ = env.step(action)\n",
    "        \n",
    "        agent.step(state, action, reward, next_state, done)\n",
    "        \n",
    "        state = next_state\n",
    "        score = score + reward\n",
    "        \n",
    "        if done:\n",
    "            break\n",
    "    score_on_100_episodes.append(score)\n",
    "    epsilon = max(epsilon_ending_value, epsilon_decay_value * epsilon)\n",
    "    \n",
    "    print('\\rEpisode {}\\tAverage Score: {:.2f}'.format(episode, np.mean(score_on_100_episodes)), end = \"\")\n",
    "    \n",
    "    if episode%100 == 0:\n",
    "        print('\\rEpisode {}\\tAverage Score: {:.2f}'.format(episode, np.mean(score_on_100_episodes)),end =\"\")\n",
    "\n",
    "\n",
    "    if np.mean(score_on_100_episodes) >= 250.0:\n",
    "        print(f\"Environment solved in {episode} Average score : {np.mean(score_on_100_episodes)}\")\n",
    "        torch.save(agent.local_qnetwork.state_dict(),'checkpoint.pth')\n",
    "        break"
   ]
  },
  {
   "cell_type": "markdown",
   "id": "e0c9c683",
   "metadata": {},
   "source": [
    "## Visualizing the result"
   ]
  },
  {
   "cell_type": "code",
   "execution_count": 10,
   "id": "2be9e051",
   "metadata": {},
   "outputs": [
    {
     "name": "stderr",
     "output_type": "stream",
     "text": [
      "IMAGEIO FFMPEG_WRITER WARNING: input image is not divisible by macro_block_size=16, resizing from (600, 400) to (608, 400) to ensure video compatibility with most codecs and players. To prevent resizing, make your input image divisible by the macro_block_size or set the macro_block_size to 1 (risking incompatibility).\n"
     ]
    },
    {
     "data": {
      "text/html": [
       "<video alt=\"test\" autoplay\n",
       "                loop controls style=\"height: 400px;\">\n",
       "                <source src=\"data:video/mp4;base64,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\" type=\"video/mp4\" />\n",
       "             </video>"
      ],
      "text/plain": [
       "<IPython.core.display.HTML object>"
      ]
     },
     "metadata": {},
     "output_type": "display_data"
    }
   ],
   "source": [
    "import glob\n",
    "import io\n",
    "import base64\n",
    "import imageio\n",
    "from IPython.display import HTML, display\n",
    "from gym.wrappers.monitoring.video_recorder import VideoRecorder\n",
    "\n",
    "def show_video_of_model(agent, env_name):\n",
    "    env = gym.make(env_name, render_mode = 'rgb_array')\n",
    "    state, _ = env.reset()\n",
    "    done = False\n",
    "    frames = []\n",
    "    \n",
    "    while not done:\n",
    "        frame = env.render()\n",
    "        frames.append(frame)\n",
    "        action = agent.act(state)\n",
    "        state, reward, done, _, _ = env.step(action.item())\n",
    "    env.close()\n",
    "    imageio.mimsave('video.mp4', frames, fps = 30)\n",
    "    \n",
    "show_video_of_model(agent, 'LunarLander-v3')\n",
    "\n",
    "\n",
    "def show_video():\n",
    "    mp4list = glob.glob('*.mp4')\n",
    "    if len(mp4list) > 0:\n",
    "        mp4 = mp4list[0]\n",
    "        video = io.open(mp4, 'r+b').read()\n",
    "        encoded = base64.b64encode(video)\n",
    "        display(HTML(data='''<video alt=\"test\" autoplay\n",
    "                loop controls style=\"height: 400px;\">\n",
    "                <source src=\"data:video/mp4;base64,{0}\" type=\"video/mp4\" />\n",
    "             </video>'''.format(encoded.decode('ascii'))))\n",
    "    else:\n",
    "        print(\"Could not find video\")\n",
    "\n",
    "show_video()"
   ]
  }
 ],
 "metadata": {
  "kernelspec": {
   "display_name": "Python 3 (ipykernel)",
   "language": "python",
   "name": "python3"
  },
  "language_info": {
   "codemirror_mode": {
    "name": "ipython",
    "version": 3
   },
   "file_extension": ".py",
   "mimetype": "text/x-python",
   "name": "python",
   "nbconvert_exporter": "python",
   "pygments_lexer": "ipython3",
   "version": "3.11.4"
  }
 },
 "nbformat": 4,
 "nbformat_minor": 5
}
